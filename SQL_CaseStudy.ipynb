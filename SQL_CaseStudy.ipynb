{
 "cells": [
  {
   "cell_type": "markdown",
   "id": "fb201fe2",
   "metadata": {},
   "source": [
    "The data for this project is in the \"country_club\" database. This database\n",
    "contains 3 tables:\n",
    "    i) the \"Bookings\" table,\n",
    "    ii) the \"Facilities\" table, and\n",
    "    iii) the \"Members\" table.\n",
    "\n",
    "In this case study, a series of questions will be asked. Each question is \n",
    "answered in one cell."
   ]
  },
  {
   "cell_type": "code",
   "execution_count": 39,
   "id": "8e51afd5",
   "metadata": {},
   "outputs": [],
   "source": [
    "import sqlite3\n",
    "from sqlite3 import Error\n",
    "import pandas as pd\n",
    "\n",
    " \n",
    "def create_connection(db_file):\n",
    "    \"\"\" create a database connection to the SQLite database\n",
    "        specified by the db_file\n",
    "    :param db_file: database file\n",
    "    :return: Connection object or None\n",
    "    \"\"\"\n",
    "    conn = None\n",
    "    try:\n",
    "        conn = sqlite3.connect(db_file)\n",
    "        print(sqlite3.version)\n",
    "    except Error as e:\n",
    "        print(e)\n",
    " \n",
    "    return conn\n",
    "\n",
    " \n",
    "def select_all_tasks(conn,query):\n",
    "    \"\"\"\n",
    "    Query all rows in the tasks table\n",
    "    :param conn: the Connection object\n",
    "    :return:\n",
    "    \"\"\"\n",
    "    cur = conn.cursor()\n",
    "    \n",
    "\n",
    "    cur.execute(query)\n",
    " \n",
    "    rows = cur.fetchall()\n",
    "   \n",
    " \n",
    "    for row in rows:\n",
    "        print(row)\n",
    "        \n",
    "    return rows\n",
    "\n",
    "#def main():\n",
    "#    database = \"sqlite_db_pythonsqlite.db\"\n",
    " \n",
    "    # create a database connection\n",
    "#    conn = create_connection(database)\n",
    "#    with conn: \n",
    "#        print(\"2. Query all tasks\")\n",
    "#       pd.DataFrame(select_all_tasks(conn))\n",
    " \n",
    " \n",
    "# if __name__ == '__main__':\n",
    "#    main()"
   ]
  },
  {
   "cell_type": "code",
   "execution_count": 40,
   "id": "09c312af",
   "metadata": {},
   "outputs": [
    {
     "name": "stdout",
     "output_type": "stream",
     "text": [
      "2.6.0\n",
      "('Tennis Court 1', 5)\n",
      "('Tennis Court 2', 5)\n",
      "('Massage Room 1', 9.9)\n",
      "('Massage Room 2', 9.9)\n",
      "('Squash Court', 3.5)\n"
     ]
    }
   ],
   "source": [
    "# Q1: Some of the facilities charge a fee to members, but some do not.\n",
    "# Write a SQL query to produce a list of the names of the facilities that do.\n",
    "\n",
    "database = \"sqlite_db_pythonsqlite.db\"\n",
    "query1 = \"\"\"\n",
    "        SELECT name, membercost \n",
    "        FROM Facilities\n",
    "        WHERE membercost <> 0;\n",
    "        \"\"\" \n",
    "    # create a database connection\n",
    "conn = create_connection(database)\n",
    "with conn: \n",
    "    \n",
    "    data = pd.DataFrame(select_all_tasks(conn,query1))"
   ]
  },
  {
   "cell_type": "code",
   "execution_count": 41,
   "id": "65e56507",
   "metadata": {},
   "outputs": [
    {
     "name": "stdout",
     "output_type": "stream",
     "text": [
      "2.6.0\n",
      "(4,)\n"
     ]
    }
   ],
   "source": [
    "# Q2: How many facilities do not charge a fee to members\n",
    "\n",
    "query2 = \"\"\"\n",
    "       SELECT COUNT(name)\n",
    "        FROM Facilities\n",
    "        WHERE membercost = 0;\n",
    "        \"\"\" \n",
    "    # create a database connection\n",
    "conn = create_connection(database)\n",
    "with conn: \n",
    "    \n",
    "    data = pd.DataFrame(select_all_tasks(conn,query2))"
   ]
  },
  {
   "cell_type": "code",
   "execution_count": 42,
   "id": "0c455174",
   "metadata": {},
   "outputs": [
    {
     "name": "stdout",
     "output_type": "stream",
     "text": [
      "2.6.0\n",
      "(0, 'Tennis Court 1', 5, 200)\n",
      "(1, 'Tennis Court 2', 5, 200)\n",
      "(4, 'Massage Room 1', 9.9, 3000)\n",
      "(5, 'Massage Room 2', 9.9, 3000)\n",
      "(6, 'Squash Court', 3.5, 80)\n"
     ]
    }
   ],
   "source": [
    "# Q3: Write an SQL query to show a list of facilities that charge a fee to members,\n",
    "# where the fee is less than 20% of the facility's monthly maintenance cost.\n",
    "# Return the facid, facility name, member cost, and monthly maintenance of the\n",
    "# facilities in question\n",
    "\n",
    "query3 = \"\"\"\n",
    "        SELECT facid, name, membercost, monthlymaintenance\n",
    "        FROM Facilities\n",
    "        WHERE membercost != 0 AND membercost < monthlymaintenance * 0.2;\n",
    "        \"\"\" \n",
    "    # create a database connection\n",
    "conn = create_connection(database)\n",
    "with conn: \n",
    "    \n",
    "    data = pd.DataFrame(select_all_tasks(conn,query3))"
   ]
  },
  {
   "cell_type": "code",
   "execution_count": 43,
   "id": "ecf34611",
   "metadata": {},
   "outputs": [
    {
     "name": "stdout",
     "output_type": "stream",
     "text": [
      "2.6.0\n",
      "(1, 'Tennis Court 2', 5, 25, 8000, 200)\n",
      "(5, 'Massage Room 2', 9.9, 80, 4000, 3000)\n"
     ]
    }
   ],
   "source": [
    "# Q4: Write an SQL query to retrieve the details of facilities with ID 1 and 5.\n",
    "# Try writing the query without using the OR operator.\n",
    "\n",
    "query4 = \"\"\"\n",
    "        SELECT *\n",
    "        FROM Facilities\n",
    "        WHERE facid IN (1, 5);\n",
    "        \"\"\" \n",
    "    # create a database connection\n",
    "conn = create_connection(database)\n",
    "with conn: \n",
    "    \n",
    "    data = pd.DataFrame(select_all_tasks(conn,query4))"
   ]
  },
  {
   "cell_type": "code",
   "execution_count": 44,
   "id": "9f9ba2fc",
   "metadata": {},
   "outputs": [
    {
     "name": "stdout",
     "output_type": "stream",
     "text": [
      "2.6.0\n",
      "('Tennis Court 1', 200, 'expensive')\n",
      "('Tennis Court 2', 200, 'expensive')\n",
      "('Badminton Court', 50, 'cheap')\n",
      "('Table Tennis', 10, 'cheap')\n",
      "('Massage Room 1', 3000, 'expensive')\n",
      "('Massage Room 2', 3000, 'expensive')\n",
      "('Squash Court', 80, 'cheap')\n",
      "('Snooker Table', 15, 'cheap')\n",
      "('Pool Table', 15, 'cheap')\n"
     ]
    }
   ],
   "source": [
    "# Q5: Produce a list of facilities, with each labelled as\n",
    "# 'cheap' or 'expensive', depending on if their monthly maintenance cost is\n",
    "# more than $100. Return the name and monthly maintenance of the facilities\n",
    "# in question. \n",
    "\n",
    "query5 = \"\"\"\n",
    "        SELECT name, monthlymaintenance,\n",
    "            CASE WHEN monthlymaintenance > 100 THEN 'expensive'\n",
    "            ELSE 'cheap' END AS maintenancecost\n",
    "        FROM Facilities;\n",
    "\n",
    "        \"\"\" \n",
    "    # create a database connection\n",
    "conn = create_connection(database)\n",
    "with conn: \n",
    "    \n",
    "    data = pd.DataFrame(select_all_tasks(conn,query5))"
   ]
  },
  {
   "cell_type": "code",
   "execution_count": 45,
   "id": "406efbc6",
   "metadata": {},
   "outputs": [
    {
     "name": "stdout",
     "output_type": "stream",
     "text": [
      "2.6.0\n",
      "('Darren', 'Smith', '2012-09-26 18:08:45')\n"
     ]
    }
   ],
   "source": [
    "# Q6: You'd like to get the first and last name of the last member(s)\n",
    "# who signed up. Try not to use the LIMIT clause for your solution. \n",
    "\n",
    "query6 = \"\"\"\n",
    "        SELECT firstname,surname, MAX(joindate) AS join_date\n",
    "        FROM Members\n",
    "        WHERE firstname != 'Guest';\n",
    "\n",
    "        \"\"\" \n",
    "    # create a database connection\n",
    "conn = create_connection(database)\n",
    "with conn: \n",
    "    \n",
    "    data = pd.DataFrame(select_all_tasks(conn,query6))"
   ]
  },
  {
   "cell_type": "code",
   "execution_count": 46,
   "id": "370eb164",
   "metadata": {},
   "outputs": [
    {
     "name": "stdout",
     "output_type": "stream",
     "text": [
      "2.6.0\n",
      "('Tennis Court 1', 'Anne Baker')\n",
      "('Tennis Court 2', 'Anne Baker')\n",
      "('Tennis Court 2', 'Burton Tracy')\n",
      "('Tennis Court 1', 'Burton Tracy')\n",
      "('Tennis Court 1', 'Charles Owen')\n",
      "('Tennis Court 2', 'Charles Owen')\n",
      "('Tennis Court 2', 'Darren Smith')\n",
      "('Tennis Court 1', 'David Farrell')\n",
      "('Tennis Court 2', 'David Farrell')\n",
      "('Tennis Court 2', 'David Jones')\n",
      "('Tennis Court 1', 'David Jones')\n",
      "('Tennis Court 1', 'David Pinker')\n",
      "('Tennis Court 1', 'Douglas Jones')\n",
      "('Tennis Court 1', 'Erica Crumpet')\n",
      "('Tennis Court 2', 'Florence Bader')\n",
      "('Tennis Court 1', 'Florence Bader')\n",
      "('Tennis Court 1', 'Gerald Butters')\n",
      "('Tennis Court 2', 'Gerald Butters')\n",
      "('Tennis Court 2', 'Henrietta Rumney')\n",
      "('Tennis Court 1', 'Jack Smith')\n",
      "('Tennis Court 2', 'Jack Smith')\n",
      "('Tennis Court 1', 'Janice Joplette')\n",
      "('Tennis Court 2', 'Janice Joplette')\n",
      "('Tennis Court 2', 'Jemima Farrell')\n",
      "('Tennis Court 1', 'Jemima Farrell')\n",
      "('Tennis Court 1', 'Joan Coplin')\n",
      "('Tennis Court 1', 'John Hunt')\n",
      "('Tennis Court 2', 'John Hunt')\n",
      "('Tennis Court 1', 'Matthew Genting')\n",
      "('Tennis Court 2', 'Millicent Purview')\n",
      "('Tennis Court 2', 'Nancy Dare')\n",
      "('Tennis Court 1', 'Nancy Dare')\n",
      "('Tennis Court 2', 'Ponder Stibbons')\n",
      "('Tennis Court 1', 'Ponder Stibbons')\n",
      "('Tennis Court 2', 'Ramnaresh Sarwin')\n",
      "('Tennis Court 1', 'Ramnaresh Sarwin')\n",
      "('Tennis Court 2', 'Tim Boothe')\n",
      "('Tennis Court 1', 'Tim Boothe')\n",
      "('Tennis Court 2', 'Tim Rownam')\n",
      "('Tennis Court 1', 'Tim Rownam')\n",
      "('Tennis Court 2', 'Timothy Baker')\n",
      "('Tennis Court 1', 'Timothy Baker')\n",
      "('Tennis Court 1', 'Tracy Smith')\n",
      "('Tennis Court 2', 'Tracy Smith')\n"
     ]
    }
   ],
   "source": [
    "# Q7: Produce a list of all members who have used a tennis court.\n",
    "# Include in your output the name of the court, and the name of the member\n",
    "# formatted as a single column. Ensure no duplicate data, and order by\n",
    "# the member name.\n",
    "\n",
    "query7 = \"\"\"\n",
    "        SELECT DISTINCT f.name AS facility_name, (m.firstname || ' '|| m.surname) AS member_name\n",
    "        FROM Bookings AS b\n",
    "        LEFT JOIN Members AS m \n",
    "        ON b.memid = m.memid\n",
    "        LEFT JOIN Facilities AS f \n",
    "        ON b.facid = f.facid\n",
    "        WHERE (b.facid =0 OR b.facid =1) AND b.memid !=0\n",
    "        ORDER BY member_name;\n",
    "        \"\"\" \n",
    "    # create a database connection\n",
    "conn = create_connection(database)\n",
    "with conn: \n",
    "    \n",
    "    data = pd.DataFrame(select_all_tasks(conn,query7))"
   ]
  },
  {
   "cell_type": "code",
   "execution_count": 47,
   "id": "6574e5ac",
   "metadata": {},
   "outputs": [
    {
     "name": "stdout",
     "output_type": "stream",
     "text": [
      "2.6.0\n",
      "('Massage Room 2', 'GUEST GUEST', 320)\n",
      "('Massage Room 1', 'GUEST GUEST', 160)\n",
      "('Massage Room 1', 'GUEST GUEST', 160)\n",
      "('Massage Room 1', 'GUEST GUEST', 160)\n",
      "('Tennis Court 2', 'GUEST GUEST', 150)\n",
      "('Tennis Court 1', 'GUEST GUEST', 75)\n",
      "('Tennis Court 1', 'GUEST GUEST', 75)\n",
      "('Tennis Court 2', 'GUEST GUEST', 75)\n",
      "('Squash Court', 'GUEST GUEST', 70.0)\n",
      "('Massage Room 1', 'Jemima Farrell', 39.6)\n",
      "('Squash Court', 'GUEST GUEST', 35.0)\n",
      "('Squash Court', 'GUEST GUEST', 35.0)\n"
     ]
    }
   ],
   "source": [
    "# Q8: Produce a list of bookings on the day of 2012-09-14 which\n",
    "# will cost the member (or guest) more than $30. Remember that guests have\n",
    "# different costs to members (the listed costs are per half-hour 'slot'), and\n",
    "# the guest user's ID is always 0. Include in your output the name of the\n",
    "# facility, the name of the member formatted as a single column, and the cost.\n",
    "# Order by descending cost, and do not use any subqueries.\n",
    "\n",
    "query8 = \"\"\"\n",
    "        SELECT f.name AS facility_name, (m.firstname || ' '|| m.surname) AS visitor_name, \n",
    "            CASE WHEN b.memid=0 THEN b.slots*f.guestcost\n",
    "            ELSE b.slots*f.membercost END AS cost\n",
    "        FROM Bookings AS b\n",
    "        LEFT JOIN Facilities AS f\n",
    "        ON b.facid = f.facid\n",
    "        LEFT JOIN Members AS m\n",
    "        ON m.memid = b.memid\n",
    "        WHERE ((b.memid=0 AND b.slots*f.guestcost >30) OR (b.memid!=0 AND b.slots*membercost >30)) \n",
    "        AND\n",
    "        (b.starttime>='2012-09-14' AND b.starttime < '2012-09-15')\n",
    "        ORDER BY cost DESC;\n",
    "        \"\"\" \n",
    "    # create a database connection\n",
    "conn = create_connection(database)\n",
    "with conn: \n",
    "    \n",
    "    data = pd.DataFrame(select_all_tasks(conn,query8))"
   ]
  },
  {
   "cell_type": "code",
   "execution_count": 48,
   "id": "9840604e",
   "metadata": {},
   "outputs": [
    {
     "name": "stdout",
     "output_type": "stream",
     "text": [
      "2.6.0\n",
      "('Massage Room 2', 'GUEST GUEST', 320)\n",
      "('Massage Room 1', 'GUEST GUEST', 160)\n",
      "('Massage Room 1', 'GUEST GUEST', 160)\n",
      "('Massage Room 1', 'GUEST GUEST', 160)\n",
      "('Tennis Court 2', 'GUEST GUEST', 150)\n",
      "('Tennis Court 1', 'GUEST GUEST', 75)\n",
      "('Tennis Court 1', 'GUEST GUEST', 75)\n",
      "('Tennis Court 2', 'GUEST GUEST', 75)\n",
      "('Squash Court', 'GUEST GUEST', 70.0)\n",
      "('Massage Room 1', 'Jemima Farrell', 39.6)\n",
      "('Squash Court', 'GUEST GUEST', 35.0)\n",
      "('Squash Court', 'GUEST GUEST', 35.0)\n"
     ]
    }
   ],
   "source": [
    "# Q9: This time, produce the same result as in Q8, but using a subquery.\n",
    "\n",
    "query9 = \"\"\"\n",
    "        SELECT subquery.name AS facility_name, (m.firstname || ' '|| m.surname) AS visitor_name, \n",
    "            subquery.slots*unit_cost AS cost\n",
    "        FROM \n",
    "        (\n",
    "        SELECT b.facid,b.memid, b.starttime, b.slots,b.bookid, f.name, \n",
    "            CASE WHEN b.memid = 0 THEN guestcost\n",
    "            ELSE membercost end AS unit_cost\n",
    "        FROM Bookings AS b\n",
    "        LEFT JOIN Facilities AS f\n",
    "        ON b.facid = f.facid\n",
    "        WHERE b.starttime>='2012-09-14' AND b.starttime < '2012-09-15'\n",
    "        ) AS subquery\n",
    "        LEFT JOIN Members AS m\n",
    "        ON subquery.memid = m.memid\n",
    "        WHERE subquery.slots*unit_cost > 30\n",
    "        ORDER BY cost DESC;\n",
    "        \"\"\" \n",
    "    # create a database connection\n",
    "conn = create_connection(database)\n",
    "with conn: \n",
    "    \n",
    "    data = pd.DataFrame(select_all_tasks(conn,query9))"
   ]
  },
  {
   "cell_type": "code",
   "execution_count": 49,
   "id": "1f771534",
   "metadata": {},
   "outputs": [
    {
     "name": "stdout",
     "output_type": "stream",
     "text": [
      "2.6.0\n",
      "('Table Tennis', 180)\n",
      "('Snooker Table', 240)\n",
      "('Pool Table', 270)\n"
     ]
    }
   ],
   "source": [
    "# Q10: Produce a list of facilities with a total revenue less than 1000.\n",
    "# The output of facility name and total revenue, sorted by revenue. Remember\n",
    "# that there's a different cost for guests and members! \n",
    "\n",
    "query10 = \"\"\"\n",
    "        SELECT name,\n",
    "        SUM(\n",
    "            CASE WHEN memid=0 THEN guestcost*slots\n",
    "            ELSE membercost*slots END\n",
    "            ) AS total_revenue\n",
    "        FROM Bookings as b\n",
    "        LEFT JOIN Facilities as f\n",
    "        ON b.facid = f.facid\n",
    "        GROUP BY name\n",
    "        HAVING total_revenue < 1000\n",
    "        ORDER BY total_revenue;\n",
    "        \"\"\" \n",
    "    # create a database connection\n",
    "conn = create_connection(database)\n",
    "with conn: \n",
    "    \n",
    "    data = pd.DataFrame(select_all_tasks(conn,query10))"
   ]
  },
  {
   "cell_type": "code",
   "execution_count": 50,
   "id": "d069c05e",
   "metadata": {},
   "outputs": [
    {
     "name": "stdout",
     "output_type": "stream",
     "text": [
      "2.6.0\n",
      "('Bader, Florence', 'Stibbons, Ponder')\n",
      "('Baker, Anne', 'Stibbons, Ponder')\n",
      "('Baker, Timothy', 'Farrell, Jemima')\n",
      "('Boothe, Tim', 'Rownam, Tim')\n",
      "('Butters, Gerald', 'Smith, Darren')\n",
      "('Coplin, Joan', 'Baker, Timothy')\n",
      "('Crumpet, Erica', 'Smith, Tracy')\n",
      "('Dare, Nancy', 'Joplette, Janice')\n",
      "('Farrell, David', None)\n",
      "('Farrell, Jemima', None)\n",
      "('GUEST, GUEST', None)\n",
      "('Genting, Matthew', 'Butters, Gerald')\n",
      "('Hunt, John', 'Purview, Millicent')\n",
      "('Jones, David', 'Joplette, Janice')\n",
      "('Jones, Douglas', 'Jones, David')\n",
      "('Joplette, Janice', 'Smith, Darren')\n",
      "('Mackenzie, Anna', 'Smith, Darren')\n",
      "('Owen, Charles', 'Smith, Darren')\n",
      "('Pinker, David', 'Farrell, Jemima')\n",
      "('Purview, Millicent', 'Smith, Tracy')\n",
      "('Rownam, Tim', None)\n",
      "('Rumney, Henrietta', 'Genting, Matthew')\n",
      "('Sarwin, Ramnaresh', 'Bader, Florence')\n",
      "('Smith, Darren', None)\n",
      "('Smith, Darren', None)\n",
      "('Smith, Jack', 'Smith, Darren')\n",
      "('Smith, Tracy', None)\n",
      "('Stibbons, Ponder', 'Tracy, Burton')\n",
      "('Tracy, Burton', None)\n",
      "('Tupperware, Hyacinth', None)\n",
      "('Worthington-Smyth, Henry', 'Smith, Tracy')\n"
     ]
    }
   ],
   "source": [
    "# Q11: Produce a report of members and who recommended them in alphabetic surname,firstname order\n",
    "query11 = \"\"\"\n",
    "        SELECT (m1.surname || ', '|| m1.firstname) AS MemberName, \n",
    "            CASE WHEN m1.recommendedby!=0 THEN (m2.surname || ', '|| m2.firstname)\n",
    "            ELSE ' ' END AS RecommendedBy\n",
    "        FROM Members AS m1\n",
    "        LEFT JOIN Members AS m2\n",
    "        ON m1.recommendedby = m2.memid\n",
    "        ORDER BY MemberName;\n",
    "        \"\"\" \n",
    "    # create a database connection\n",
    "conn = create_connection(database)\n",
    "with conn: \n",
    "    \n",
    "    data = pd.DataFrame(select_all_tasks(conn,query11))"
   ]
  },
  {
   "cell_type": "code",
   "execution_count": 51,
   "id": "706ccfcc",
   "metadata": {},
   "outputs": [],
   "source": [
    "# Q12: Find the facilities with their usage by member, but not guests\n",
    "\n",
    "# This question is not clear. Waiting for clarification."
   ]
  },
  {
   "cell_type": "code",
   "execution_count": 52,
   "id": "5347e8cd",
   "metadata": {},
   "outputs": [],
   "source": [
    "# Q13: Find the facilities usage by month, but not guests\n",
    "\n",
    "# This question is not clear. Waiting for clarification."
   ]
  },
  {
   "cell_type": "code",
   "execution_count": null,
   "id": "cff88658",
   "metadata": {},
   "outputs": [],
   "source": []
  }
 ],
 "metadata": {
  "kernelspec": {
   "display_name": "Python 3",
   "language": "python",
   "name": "python3"
  },
  "language_info": {
   "codemirror_mode": {
    "name": "ipython",
    "version": 3
   },
   "file_extension": ".py",
   "mimetype": "text/x-python",
   "name": "python",
   "nbconvert_exporter": "python",
   "pygments_lexer": "ipython3",
   "version": "3.8.8"
  }
 },
 "nbformat": 4,
 "nbformat_minor": 5
}
